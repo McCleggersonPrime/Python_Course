{
  "nbformat": 4,
  "nbformat_minor": 0,
  "metadata": {
    "colab": {
      "name": "Copy of 5. numpy.ipynb",
      "provenance": [],
      "collapsed_sections": [],
      "include_colab_link": true
    },
    "kernelspec": {
      "name": "python3",
      "display_name": "Python 3"
    },
    "language_info": {
      "name": "python"
    }
  },
  "cells": [
    {
      "cell_type": "markdown",
      "metadata": {
        "id": "view-in-github",
        "colab_type": "text"
      },
      "source": [
        "<a href=\"https://colab.research.google.com/github/McCleggersonPrime/Python_Course/blob/main/Copy_of_5_numpy.ipynb\" target=\"_parent\"><img src=\"https://colab.research.google.com/assets/colab-badge.svg\" alt=\"Open In Colab\"/></a>"
      ]
    },
    {
      "cell_type": "markdown",
      "metadata": {
        "id": "M21YTen340ZU"
      },
      "source": [
        "# Using numpy for processing lists of number data\n",
        "\n",
        "---"
      ]
    },
    {
      "cell_type": "markdown",
      "metadata": {
        "id": "lvCryMxH47we"
      },
      "source": [
        "## numpy is a high performance array processing library for Python\n",
        "\n",
        "Python lists can contain any type of data, including objects.  numpy arrays are specialised and can only contain numbers.\n",
        "\n",
        "You can customise the memory usage so that arrays can use less memory and items are always stored contiguously, which isn't always the case for Python lists.  This means that it is more efficient at storing, and faster at processing, large data sets.\n",
        "\n",
        "Use numpy arrays to **store and manipulate large lists of numbers** (for other data types use plain Python lists or a panda series)\n",
        "\n",
        "Use numpy arrays to **process panda series (columns) where these contain numerical data and a large number of records**.\n",
        "\n",
        "Use numpy arrays to **create new sets of data** to add to a dataframe.\n",
        "\n",
        "For this course we are going to focus on using numpy arrays as a means of holding and working with a list of data from a pandas dataframe column.\n"
      ]
    },
    {
      "cell_type": "markdown",
      "metadata": {
        "id": "MxKEUfvp54QO"
      },
      "source": [
        "---\n",
        "## Creating a new numpy array (maybe for a new series or an extended series)\n",
        "\n",
        "To use numpy, you will need to import it.  The conventional way to import numpy is to import the whole library and use an *alias*\n",
        "\n",
        "`import numpy as np`\n",
        "\n",
        "Every time you want to use a function from the numpy library you use the syntax:  \n",
        "\n",
        "`np.function_name()`  \n",
        "\n",
        "Create a new numpy array from a Python list of numbers\n",
        "   \n",
        "`arr = np.array([1,2,3])`\n",
        "\n",
        "Or a new numpy matrix from a Python 2 dimensional list of numbers\n",
        "\n",
        "`matrix = np.array([1,2,3],[4,5,6])`\n",
        "\n",
        "Create a numpy array from a dataframe column (series):\n",
        "\n",
        "`arr = df['column name'].to_numpy(datatype)`\n",
        "\n",
        "where the datatype matches the data type of the column (`df.info()` will give this information if you are unsure).\n",
        "\n"
      ]
    },
    {
      "cell_type": "markdown",
      "metadata": {
        "id": "s2HQHeHE6r4n"
      },
      "source": [
        "### Exercise 1 - create a new numpy array to hold the numbers from 1 to 100\n",
        "---\n",
        "\n",
        "Write a function called `make_array()` which will:\n",
        "*   create a list of the numbers 1 to 10  \n",
        "*   create a new numpy array called **new_array** from that list\n",
        "*   print `new_array`\n",
        "\n",
        "Expected output:  \n",
        "`[1 2 3 4 5 6 7 8 9 10] ` \n",
        "\n"
      ]
    },
    {
      "cell_type": "code",
      "metadata": {
        "id": "-WWVDSRq7QDN",
        "outputId": "965599c2-88c8-4e87-9ba2-d8bd8fab6468",
        "colab": {
          "base_uri": "https://localhost:8080/"
        }
      },
      "source": [
        "import numpy as np\n",
        "\n",
        "def make_array():\n",
        "  # add your code below here\n",
        "  new_array = [1,2,3,4,5,6,7,8,9,10]\n",
        "  print(new_array)\n",
        "\n",
        "\n",
        "\n",
        "# run and test the function against the expected output\n",
        "make_array()"
      ],
      "execution_count": null,
      "outputs": [
        {
          "output_type": "stream",
          "name": "stdout",
          "text": [
            "[1, 2, 3, 4, 5, 6, 7, 8, 9, 10]\n"
          ]
        }
      ]
    },
    {
      "cell_type": "markdown",
      "metadata": {
        "id": "X2qc0-nc7qZV"
      },
      "source": [
        "## Setting the number type in memory\n",
        "\n",
        "numpy allows you to set the type of number in memory (e.g. `int8`, `int32`) when you create the array.  This allows memory allocation to be as small as possible.  \n",
        "\n",
        "`new_matrix = np.array([1, 2, 3], np.int8)`    \n",
        "\n",
        "This creates a list of whole numbers which are all small enough to fit in 1 byte of memory storage.\n",
        "\n",
        "---\n",
        "### Exercise 2 - create list of smallish numbers\n",
        "\n",
        "Write a function which will:\n",
        "*   accept a parameter **num_list**    \n",
        "*   create a new numpy array called **new_array** from `num_list`, with data size `int16`\n",
        "*   print `new_array`  \n",
        "\n",
        "Test input:  \n",
        "`[31112, 32321, 24567,456,324,789]`\n",
        "\n",
        "Expected output:   \n",
        "```\n",
        "[31112 32321 24567 456 324 789]\n",
        "```"
      ]
    },
    {
      "cell_type": "code",
      "metadata": {
        "id": "XUMfMwhLACzH",
        "outputId": "09531198-1725-4336-fb9d-f10e3791a43a",
        "colab": {
          "base_uri": "https://localhost:8080/"
        }
      },
      "source": [
        "import numpy as np\n",
        "\n",
        "def create_new_array(num_list):\n",
        "  # add your code below here to turn num_list into a numpy array\n",
        "  new_array = np.array(num_list, np.int16)\n",
        "  print(new_array)\n",
        "\n",
        "\n",
        "# run and test the code against the expected output\n",
        "create_new_array([31112, 32321, 24567,456,324,789])"
      ],
      "execution_count": null,
      "outputs": [
        {
          "output_type": "stream",
          "name": "stdout",
          "text": [
            "[31112 32321 24567   456   324   789]\n"
          ]
        }
      ]
    },
    {
      "cell_type": "markdown",
      "metadata": {
        "id": "oC8rsm3yBLRd"
      },
      "source": [
        "---\n",
        "### Exercise 3 - create a numpy array from a pandas dataframe column\n",
        "\n",
        "Write a function which  will first create a dataframe from the titanic data set, and then will create a numpy array from the Fare column.\n",
        "\n",
        "*Recap*:  *the Fare column is df['Fare'] (assuming your dataframe is called df)*\n",
        "\n",
        "*  create a dataframe from the data set in the file at this url:  https://raw.githubusercontent.com/pandas-dev/pandas/master/doc/data/titanic.csv  \n",
        "*  create a new numpy array called **fare** from the `Fare` column (*remember to specify the data type e.g. np.int32, float64 when using* `df.to_numpy()`)  \n",
        "*  print the `fare` array\n",
        "\n",
        "Expected output:  \n",
        "```\n",
        "array([  7.25  ,  71.2833,   7.925 , ......  23.45  ,  30.    ,   7.75  ])\n",
        "```\n",
        "\n",
        "  "
      ]
    },
    {
      "cell_type": "code",
      "source": [
        "help(df['Fare'].to_numpy)"
      ],
      "metadata": {
        "id": "tRQ7hPKdvwar",
        "outputId": "49d68449-4041-4e10-935a-33108d5fdeda",
        "colab": {
          "base_uri": "https://localhost:8080/"
        }
      },
      "execution_count": null,
      "outputs": [
        {
          "output_type": "stream",
          "name": "stdout",
          "text": [
            "Help on method to_numpy in module pandas.core.base:\n",
            "\n",
            "to_numpy(dtype: 'Dtype | None' = None, copy: 'bool' = False, na_value=<no_default>, **kwargs) -> 'np.ndarray' method of pandas.core.series.Series instance\n",
            "    A NumPy ndarray representing the values in this Series or Index.\n",
            "    \n",
            "    Parameters\n",
            "    ----------\n",
            "    dtype : str or numpy.dtype, optional\n",
            "        The dtype to pass to :meth:`numpy.asarray`.\n",
            "    copy : bool, default False\n",
            "        Whether to ensure that the returned value is not a view on\n",
            "        another array. Note that ``copy=False`` does not *ensure* that\n",
            "        ``to_numpy()`` is no-copy. Rather, ``copy=True`` ensure that\n",
            "        a copy is made, even if not strictly necessary.\n",
            "    na_value : Any, optional\n",
            "        The value to use for missing values. The default value depends\n",
            "        on `dtype` and the type of the array.\n",
            "    \n",
            "        .. versionadded:: 1.0.0\n",
            "    \n",
            "    **kwargs\n",
            "        Additional keywords passed through to the ``to_numpy`` method\n",
            "        of the underlying array (for extension arrays).\n",
            "    \n",
            "        .. versionadded:: 1.0.0\n",
            "    \n",
            "    Returns\n",
            "    -------\n",
            "    numpy.ndarray\n",
            "    \n",
            "    See Also\n",
            "    --------\n",
            "    Series.array : Get the actual data stored within.\n",
            "    Index.array : Get the actual data stored within.\n",
            "    DataFrame.to_numpy : Similar method for DataFrame.\n",
            "    \n",
            "    Notes\n",
            "    -----\n",
            "    The returned array will be the same up to equality (values equal\n",
            "    in `self` will be equal in the returned array; likewise for values\n",
            "    that are not equal). When `self` contains an ExtensionArray, the\n",
            "    dtype may be different. For example, for a category-dtype Series,\n",
            "    ``to_numpy()`` will return a NumPy array and the categorical dtype\n",
            "    will be lost.\n",
            "    \n",
            "    For NumPy dtypes, this will be a reference to the actual data stored\n",
            "    in this Series or Index (assuming ``copy=False``). Modifying the result\n",
            "    in place will modify the data stored in the Series or Index (not that\n",
            "    we recommend doing that).\n",
            "    \n",
            "    For extension types, ``to_numpy()`` *may* require copying data and\n",
            "    coercing the result to a NumPy type (possibly object), which may be\n",
            "    expensive. When you need a no-copy reference to the underlying data,\n",
            "    :attr:`Series.array` should be used instead.\n",
            "    \n",
            "    This table lays out the different dtypes and default return types of\n",
            "    ``to_numpy()`` for various dtypes within pandas.\n",
            "    \n",
            "    ================== ================================\n",
            "    dtype              array type\n",
            "    ================== ================================\n",
            "    category[T]        ndarray[T] (same dtype as input)\n",
            "    period             ndarray[object] (Periods)\n",
            "    interval           ndarray[object] (Intervals)\n",
            "    IntegerNA          ndarray[object]\n",
            "    datetime64[ns]     datetime64[ns]\n",
            "    datetime64[ns, tz] ndarray[object] (Timestamps)\n",
            "    ================== ================================\n",
            "    \n",
            "    Examples\n",
            "    --------\n",
            "    >>> ser = pd.Series(pd.Categorical(['a', 'b', 'a']))\n",
            "    >>> ser.to_numpy()\n",
            "    array(['a', 'b', 'a'], dtype=object)\n",
            "    \n",
            "    Specify the `dtype` to control how datetime-aware data is represented.\n",
            "    Use ``dtype=object`` to return an ndarray of pandas :class:`Timestamp`\n",
            "    objects, each with the correct ``tz``.\n",
            "    \n",
            "    >>> ser = pd.Series(pd.date_range('2000', periods=2, tz=\"CET\"))\n",
            "    >>> ser.to_numpy(dtype=object)\n",
            "    array([Timestamp('2000-01-01 00:00:00+0100', tz='CET'),\n",
            "           Timestamp('2000-01-02 00:00:00+0100', tz='CET')],\n",
            "          dtype=object)\n",
            "    \n",
            "    Or ``dtype='datetime64[ns]'`` to return an ndarray of native\n",
            "    datetime64 values. The values are converted to UTC and the timezone\n",
            "    info is dropped.\n",
            "    \n",
            "    >>> ser.to_numpy(dtype=\"datetime64[ns]\")\n",
            "    ... # doctest: +ELLIPSIS\n",
            "    array(['1999-12-31T23:00:00.000000000', '2000-01-01T23:00:00...'],\n",
            "          dtype='datetime64[ns]')\n",
            "\n"
          ]
        }
      ]
    },
    {
      "cell_type": "code",
      "metadata": {
        "id": "QCs2eDFEBhr8",
        "outputId": "e911af57-4b84-4b39-c14d-dd70e94db621",
        "colab": {
          "base_uri": "https://localhost:8080/"
        }
      },
      "source": [
        "import pandas as pd\n",
        "import numpy as np\n",
        "\n",
        "url = pd.read_csv('https://raw.githubusercontent.com/pandas-dev/pandas/master/doc/data/titanic.csv')\n",
        "df = url\n",
        "def create_fare_series():\n",
        "  # add your code below here to read the data set into a dataframe and then create a numpy array from the Fare column and print it\n",
        "  fare = df['Fare'].to_numpy(dtype = np.float16) \n",
        "\n",
        "  print(fare)\n",
        "\n",
        "# run the function and test against the expected output.\n",
        "create_fare_series()"
      ],
      "execution_count": null,
      "outputs": [
        {
          "output_type": "stream",
          "name": "stdout",
          "text": [
            "[  7.25   71.3     7.926  53.1     8.05    8.46   51.88   21.08   11.13\n",
            "  30.08   16.7    26.55    8.05   31.28    7.855  16.     29.12   13.\n",
            "  18.      7.227  26.     13.      8.03   35.5    21.08   31.39    7.227\n",
            " 263.      7.88    7.895  27.72  146.5     7.75   10.5    82.2    52.\n",
            "   7.23    8.05   18.     11.24    9.48   21.      7.895  41.6     7.88\n",
            "   8.05   15.5     7.75   21.67   17.8    39.7     7.8    76.75   26.\n",
            "  61.97   35.5    10.5     7.23   27.75   46.9     7.23   80.     83.5\n",
            "  27.9    27.72   15.24   10.5     8.16    7.926   8.664  10.5    46.9\n",
            "  73.5    14.45   56.5     7.65    7.895   8.05   29.     12.48    9.\n",
            "   9.5     7.79   47.1    10.5    15.85   34.38    8.05  263.      8.05\n",
            "   8.05    7.855  61.2    20.58    7.25    8.05   34.66   63.34   23.\n",
            "  26.      7.895   7.895  77.3     8.66    7.926   7.895   7.65    7.773\n",
            "   7.895  24.16   52.     14.45    8.05    9.83   14.46    7.926   7.75\n",
            "  21.    247.5    31.28   73.5     8.05   30.08   13.     77.3    11.24\n",
            "   7.75    7.14   22.36    6.977   7.895   7.05   14.5    26.     13.\n",
            "  15.05   26.28   53.1     9.22   79.2    15.24    7.75   15.85    6.75\n",
            "  11.5    36.75    7.797  34.38   26.     13.     12.52   66.6     8.05\n",
            "  14.5     7.312  61.38    7.734   8.05    8.664  69.56   16.1    15.75\n",
            "   7.773   8.664  39.7    20.53   55.     27.9    25.92   56.5    33.5\n",
            "  29.12   11.13    7.926  30.7     7.855  25.47   28.72   13.      0.\n",
            "  69.56   15.05   31.39   39.     22.03   50.     15.5    26.55   15.5\n",
            "   7.895  13.     13.      7.855  26.     27.72  146.5     7.75    8.41\n",
            "   7.75   13.      9.5    69.56    6.496   7.227   8.05   10.46   15.85\n",
            "  18.78    7.75   31.      7.05   21.      7.25   13.      7.75  113.25\n",
            "   7.926  27.     76.3    10.5     8.05   13.      8.05    7.895  90.\n",
            "   9.35   10.5     7.25   13.     25.47   83.5     7.773  13.5    31.39\n",
            "  10.5     7.55   26.     26.25   10.5    12.27   14.45   15.5    10.5\n",
            "   7.125   7.227  90.      7.773  14.5    52.56   26.      7.25   10.46\n",
            "  26.55   16.1    20.22   15.24   79.2    86.5   512.5    26.      7.75\n",
            "  31.39   79.6     0.      7.75   10.5    39.7     7.773 153.5   135.6\n",
            "  31.      0.     19.5    29.7     7.75   77.94    7.75    0.     29.12\n",
            "  20.25    7.75    7.855   9.5     8.05   26.      8.664   9.5     7.895\n",
            "  13.      7.75   78.9    91.06   12.875   8.85    7.895  27.72    7.23\n",
            " 151.5    30.5   247.5     7.75   23.25    0.     12.35    8.05  151.5\n",
            " 110.9   108.9    24.     56.94   83.2   262.5    26.      7.895  26.25\n",
            "   7.855  26.     14.    164.9   134.5     7.25    7.895  12.35   29.\n",
            "  69.56  135.6     6.24   13.     20.53   57.97   23.25   28.5   153.5\n",
            "  18.    133.6     7.895  66.6   134.5     8.05   35.5    26.    263.\n",
            "  13.     13.     13.     13.     13.     16.1    15.9     8.664   9.23\n",
            "  35.      7.23   17.8     7.227   9.5    55.     13.      7.88    7.88\n",
            "  27.9    27.72   14.45    7.05   15.5     7.25   75.25    7.23    7.75\n",
            "  69.3    55.44    6.496   8.05  135.6    21.08   82.2     7.25  211.5\n",
            "   4.01    7.773 227.5    15.74    7.926  52.      7.895  73.5    46.9\n",
            "  13.      7.73   12.    120.      7.797   7.926 113.25   16.7     7.797\n",
            "   7.855  26.     10.5    12.65    7.926   8.05    9.83   15.85    8.664\n",
            "  21.      7.75   18.75    7.773  25.47    7.895   6.86   90.      0.\n",
            "   7.926   8.05   32.5    13.     13.     24.16    7.895   7.734   7.875\n",
            "  14.4    20.22    7.25   26.     26.      7.75    8.05   26.55   16.1\n",
            "  26.      7.125  55.9   120.     34.38   18.75  263.     10.5    26.25\n",
            "   9.5     7.773  13.      8.11   81.9    19.5    26.55   19.27   30.5\n",
            "  27.75   19.97   27.75   89.1     8.05    7.895  26.55   51.88   10.5\n",
            "   7.75   26.55    8.05   38.5    13.      8.05    7.05    0.     26.55\n",
            "   7.727  19.27    7.25    8.664  27.75   13.79    9.836  52.     21.\n",
            "   7.047   7.52   12.29   46.9     0.      8.05    9.586  91.06   25.47\n",
            "  90.     29.7     8.05   15.9    19.97    7.25   30.5    49.5     8.05\n",
            "  14.46   78.25   15.1   151.5     7.797   8.664   7.75    7.63    9.586\n",
            "  86.5   108.9    26.     26.55   22.53   56.5     7.75    8.05   26.28\n",
            "  59.4     7.496  34.03   10.5    24.16   26.      7.895  93.5     7.895\n",
            "   7.227  57.97    7.23    7.75   10.5   221.8     7.926  11.5    26.\n",
            "   7.23    7.23   22.36    8.664  26.25   26.55  106.44   14.5    49.5\n",
            "  71.     31.28   31.28   26.    106.44   26.     26.     13.86   20.53\n",
            "  36.75  110.9    26.      7.83    7.227   7.773  26.55   39.6   227.5\n",
            "  79.6    17.4     7.75    7.895  13.5     8.05    8.05   24.16    7.895\n",
            "  21.08    7.23    7.855  10.5    51.47   26.39    7.75    8.05   14.5\n",
            "  13.     55.9    14.46    7.926  30.    110.9    26.     40.12    8.71\n",
            "  79.6    15.     79.2     8.05    8.05    7.125  78.25    7.25    7.75\n",
            "  26.     24.16   33.      0.      7.227  56.94   27.      7.895  42.4\n",
            "   8.05   26.55   15.55    7.895  30.5    41.6   153.5    31.28    7.05\n",
            "  15.5     7.75    8.05   65.     14.4    16.1    39.     10.5    14.45\n",
            "  52.56   15.74    7.855  16.1    32.3    12.35   77.94    7.895   7.734\n",
            "  30.      7.055  30.5     0.     27.9    13.      7.926  26.25   39.7\n",
            "  16.1     7.855  69.3    27.9    56.5    19.27   76.75    7.895  35.5\n",
            "   7.55    7.55    7.895  23.      8.43    7.83    6.75   73.5     7.895\n",
            "  15.5    13.    113.25  133.6     7.227  25.6     7.496   7.926  73.5\n",
            "  13.      7.773   8.05   52.     39.     52.     10.5    13.      0.\n",
            "   7.773   8.05    9.84   46.9   512.5     8.14   76.75    9.23   46.9\n",
            "  39.     41.6    39.7    10.17    7.797 211.4    57.     13.414  56.5\n",
            "   7.227  26.55   13.5     8.05    7.734 110.9     7.65  227.5    26.28\n",
            "  14.45    7.742   7.855  26.     13.5    26.28  151.5    15.24   49.5\n",
            "  26.55   52.      9.484  13.      7.65  227.5    10.5    15.5     7.773\n",
            "  33.      7.055  13.     13.     53.1     8.664  21.      7.74   26.\n",
            "   7.926 211.4    18.78    0.     13.     13.     16.1    34.38  512.5\n",
            "   7.895   7.895  30.     78.9   262.5    16.1     7.926  71.     20.25\n",
            "  13.     53.1     7.75   23.     12.48    9.5     7.895  65.     14.5\n",
            "   7.797  11.5     8.05   86.5    14.5     7.125   7.23  120.      7.773\n",
            "  77.94   39.6     7.75   24.16    8.36    9.5     7.855  10.5     7.227\n",
            "  23.      7.75    7.75   12.48    7.74  211.4     7.23   57.     30.\n",
            "  23.45    7.05    7.25    7.496  29.12   20.58   79.2     7.75   26.\n",
            "  69.56   30.7     7.895  13.     25.92    8.68    7.23   24.16   13.\n",
            "  26.25  120.      8.516   6.977   7.773   0.      7.773  13.     53.1\n",
            "   7.887  24.16   10.5    31.28    8.05    0.      7.926  37.      6.45\n",
            "  27.9    93.5     8.664   0.     12.48   39.7     6.95   56.5    37.\n",
            "   7.75   80.     14.45   18.75    7.23    7.855   8.3    83.2     8.664\n",
            "   8.05   56.5    29.7     7.926  10.5    31.      6.438   8.664   7.55\n",
            "  69.56    7.895  33.     89.1    31.28    7.773  15.24   39.4    26.\n",
            "   9.35  164.9    26.55   19.27    7.23   14.11   11.5    25.92   69.56\n",
            "  13.     13.     13.86   50.5     9.5    11.13    7.895  52.56    5.\n",
            "   9.     24.      7.227   9.84    7.895   7.895  83.2    26.      7.895\n",
            "  10.516  10.5     7.05   29.12   13.     30.     23.45   30.      7.75 ]\n"
          ]
        }
      ]
    },
    {
      "cell_type": "markdown",
      "metadata": {
        "id": "qf3xj2T9CRmT"
      },
      "source": [
        "---\n",
        "### Exercise 4 - get some statistics from a numpy array created from a data series\n",
        "\n",
        "This exercise will use data on income in certain US states.  The link is: https://github.com/futureCodersSE/working-with-data/blob/main/Data%20sets/Income-Data.xlsx?raw=true  This spreadsheet just has one sheet.  \n",
        "\n",
        "Write a function which will create a numpy array from the `Age` column in the income dataset and will print the following:\n",
        "\n",
        "*  the average (mean) age of those surveyed  \n",
        "*  the age of the oldest person\n",
        "*  the age of the youngest person\n",
        "\n",
        "TO HELP with this, refer to this helpsheet: http://datacamp-community-prod.s3.amazonaws.com/da466534-51fe-4c6d-b0cb-154f4782eb54 \n",
        "\n",
        "Expected output:  \n",
        "```\n",
        "29.88888888888889\n",
        "42\n",
        "22\n",
        "```\n",
        "\n",
        "     "
      ]
    },
    {
      "cell_type": "code",
      "metadata": {
        "id": "27UpVktxC_VX",
        "outputId": "eb6b23ed-a398-4a9a-c0ca-b5b04538a1b3",
        "colab": {
          "base_uri": "https://localhost:8080/"
        }
      },
      "source": [
        "import pandas as pd\n",
        "import numpy as np\n",
        "url = pd.read_excel('https://github.com/futureCodersSE/working-with-data/blob/main/Data%20sets/Income-Data.xlsx?raw=true')\n",
        "df = url\n",
        "def get_age_stats():\n",
        "  # add your code below here to read the data set into a dataframe and then create a numpy array from the Fare column and print it\n",
        "  age_array = df['Age'].to_numpy()\n",
        "  print(age_array.mean())\n",
        "  print(age_array.max(axis=0))\n",
        "  print(age_array.min())\n",
        "\n",
        "# run the function and test against the expected output.\n",
        "get_age_stats()"
      ],
      "execution_count": null,
      "outputs": [
        {
          "output_type": "stream",
          "name": "stdout",
          "text": [
            "29.88888888888889\n",
            "42.0\n",
            "22.0\n"
          ]
        }
      ]
    },
    {
      "cell_type": "markdown",
      "metadata": {
        "id": "DDVIHbrnFjwz"
      },
      "source": [
        "---\n",
        "### Exercise 6 - find the mean and standard deviation of wages\n",
        "\n",
        "This exercise will again use data on income in certain US states.  The link is: https://github.com/futureCodersSE/working-with-data/blob/main/Data%20sets/Income-Data.xlsx?raw=true  This spreadsheet just has one sheet.\n",
        "\n",
        "Write a function which will create a numpy array from the `Income` column in the income dataset and will print the following:\n",
        "\n",
        "*  the mean income of those surveyed  \n",
        "*  the standard deviation of income\n",
        "*  the highest income\n",
        "*  the lowest income as a percentage of the mean (lowest / mean * 100) \n",
        "\n",
        "TO HELP with this, refer to this helpsheet: http://datacamp-community-prod.s3.amazonaws.com/da466534-51fe-4c6d-b0cb-154f4782eb54 \n",
        "\n",
        "Expected output:  \n",
        "```\n",
        "63.388888888888886\n",
        "13.936916958961463\n",
        "81\n",
        "34.70639789658195\n",
        "```\n",
        "\n"
      ]
    },
    {
      "cell_type": "code",
      "metadata": {
        "id": "YB72q998EWkF",
        "outputId": "03f40f3a-11da-4348-e32e-3ad73ec11cdc",
        "colab": {
          "base_uri": "https://localhost:8080/"
        }
      },
      "source": [
        "import pandas as pd\n",
        "import numpy as np\n",
        "\n",
        "url = pd.read_excel('https://github.com/futureCodersSE/working-with-data/blob/main/Data%20sets/Income-Data.xlsx?raw=true')\n",
        "df = url\n",
        "def get_income_stats():\n",
        "  # add your code below to calculate the stats\n",
        "  income_array = df['Income'].to_numpy(dtype = np.int16)\n",
        "  lowest_income = income_array.min()\n",
        "  mean_income = income_array.mean()\n",
        "  print(mean_income)\n",
        "  print(np.std(income_array))\n",
        "  print(income_array.max(axis=0))\n",
        "  print((lowest_income/mean_income)*100)\n",
        "\n",
        "\n",
        "# run the function and test against expected output\n",
        "get_income_stats()"
      ],
      "execution_count": null,
      "outputs": [
        {
          "output_type": "stream",
          "name": "stdout",
          "text": [
            "63.388888888888886\n",
            "13.936916958961463\n",
            "81\n",
            "34.70639789658195\n"
          ]
        }
      ]
    },
    {
      "cell_type": "markdown",
      "metadata": {
        "id": "QnOKzp1cHAvH"
      },
      "source": [
        "---\n",
        "### Exercise 7 - finding the correlation between two series\n",
        "\n",
        "Let's find out if there is a strong correlation between Age and Income in the income data set.\n",
        "\n",
        "*  read the Income data into a pandas dataframe\n",
        "*  create a numpy array from the Age column  \n",
        "*  create a numpy array from the Income column  \n",
        "*  use the np.corrcoef(nparray1, nparray2) function to get the Pearson's Correlation Coefficient (the measure of linear correlation between the two data sets) and store it in a variable called **coef**\n",
        "*  print the correlation coefficient output (see below, it will be a 2x2 matrix)\n",
        "*  print the correlation coefficient (which is at position [0][1] (coef[0][1]))\n",
        "\n",
        "\n",
        "Expected output:  \n",
        "```\n",
        "[[ 1.         -0.14787412]\n",
        " [-0.14787412  1.        ]]\n",
        " -0.1478741157606825\n",
        "\n",
        "```\n",
        "The matrix gives 4 values showing the correlation between:\n",
        "\n",
        "```\n",
        "   |    (Age/Age)        (Age/Income)     |\n",
        "   |    (Income/Age)     (Income/Income)  |\n",
        "```\n",
        "This suggests that income decreases with age (the correlation is negative \n",
        "so as one increases the other decreases) but that the correlation is quite weak (an absolute correlation would be 1 and no correlation would be 0)"
      ]
    },
    {
      "cell_type": "code",
      "metadata": {
        "id": "xXsISkA4HibO",
        "colab": {
          "base_uri": "https://localhost:8080/"
        },
        "outputId": "508904b1-645d-42bc-ad9f-b24323fc7ee8"
      },
      "source": [
        "import pandas as pd\n",
        "import numpy as np\n",
        "url = 'https://github.com/futureCodersSE/working-with-data/blob/main/Data%20sets/Income-Data.xlsx?raw=true'\n",
        "df = pd.read_excel(url)\n",
        "def get_correlation():\n",
        "  # add your code below to get the correlation figure for age and salary\n",
        "  age_array = df['Age'].to_numpy(dtype = np.int8)\n",
        "  income_array = df['Income'].to_numpy(dtype = np.int8)\n",
        "  coef = np.corrcoef(age_array, income_array)\n",
        "  print(coef)\n",
        "  print(coef[0][1])\n",
        "\n",
        "\n",
        "\n",
        "# run the function and test against expected output\n",
        "get_correlation()"
      ],
      "execution_count": 8,
      "outputs": [
        {
          "output_type": "stream",
          "name": "stdout",
          "text": [
            "[[ 1.         -0.14787412]\n",
            " [-0.14787412  1.        ]]\n",
            "-0.1478741157606825\n"
          ]
        }
      ]
    },
    {
      "cell_type": "markdown",
      "metadata": {
        "id": "OxR5qwoxIhMY"
      },
      "source": [
        "---\n",
        "## Broadcasting an operation across an array\n",
        "\n",
        "Because a numpy array is created from a related set of data, it is useful to be able to operate on every item in the array in the same way.  For instance, the array might hold a set of scores out of 30 and you might want to convert all scores into percentages.\n",
        "\n",
        "We can do this in a number of ways:  \n",
        "1.  Create a new array to store the result after the operation in the new array\n",
        "```\n",
        "scores = np.array([29,25,15,22,30])\n",
        "percentages = scores / 30 * 100\n",
        "print(percentages)\n",
        "```\n",
        "Expected output:\n",
        "```\n",
        "[ 96.66666667  83.33333333  50.          73.33333333 100.        ]\n",
        "```\n",
        "2.  Store the result in the original array\n",
        "```\n",
        "scores = np.array([29,25,15,22,30])\n",
        "scores = scores / 30 * 100\n",
        "print(scores)\n",
        "```\n",
        "Expected output:\n",
        "```\n",
        "[ 96.66666667  83.33333333  50.  73.33333333 100. ]\n",
        "```\n",
        "\n",
        "Give it a try:\n",
        "\n",
        "\n",
        "\n"
      ]
    },
    {
      "cell_type": "code",
      "metadata": {
        "id": "ozhaq9-tJhRy"
      },
      "source": [
        ""
      ],
      "execution_count": null,
      "outputs": []
    },
    {
      "cell_type": "markdown",
      "metadata": {
        "id": "Lg62ACAlLzT8"
      },
      "source": [
        "---\n",
        "### Exercise 8 - increase whole array by 20\n",
        "\n",
        "Write a function which will:\n",
        "*  create a numpy array of 12 numbers\n",
        "*  create a new array adding 20 to each of the items in the first array  \n",
        "*  print the new array\n",
        "\n",
        "Test input:  \n",
        "`[1,2,3,4,5,6,7,8,1,2,3,4]`\n",
        "\n",
        "Expected output:  \n",
        "`[21 22 23 24 25 26 27 28 21 22 23 24]`"
      ]
    },
    {
      "cell_type": "code",
      "metadata": {
        "id": "HloCtcOYMD3W",
        "colab": {
          "base_uri": "https://localhost:8080/"
        },
        "outputId": "f755054b-2904-496d-a675-2f0b1bd3e31f"
      },
      "source": [
        "# add your code to define the function to increase all values in an array by 20 and then to call the function\n",
        "\n",
        "def increased_array():\n",
        "  array_old = np.array([1,2,3,4,5,6,7,8,1,2,3,4])\n",
        "  array_new = array_old + 20\n",
        "  print(array_new)\n",
        "increased_array()"
      ],
      "execution_count": 11,
      "outputs": [
        {
          "output_type": "stream",
          "name": "stdout",
          "text": [
            "[21 22 23 24 25 26 27 28 21 22 23 24]\n"
          ]
        }
      ]
    },
    {
      "cell_type": "markdown",
      "metadata": {
        "id": "B-p-PF99MECD"
      },
      "source": [
        "---\n",
        "## Conversion of values using broadcasting\n",
        "\n",
        "---\n",
        "### Exercise 9 - convert Titanic fares into 21st century values \n",
        "\n",
        "Write a function which will:  \n",
        "*  create a dataframe from the titanic data set (https://raw.githubusercontent.com/pandas-dev/pandas/master/doc/data/titanic.csv)   \n",
        "*  create a numpy array from the Fare column\n",
        "*  convert the fares into current value (multiply by a factor of 120.7045 - source https://www.in2013dollars.com/uk/inflation/1912?amount=32 *accessed 22/1/2022*)\n",
        "*  print the average fare, the maximum fare and the minimum fare\n",
        "\n",
        "Expected output:  \n",
        "```\n",
        "3887.1928207428173\n",
        "61840.4399214\n",
        "0.0\n",
        "```\n",
        "\n",
        "\n",
        " "
      ]
    },
    {
      "cell_type": "code",
      "metadata": {
        "id": "ahgPUqTjM9it",
        "colab": {
          "base_uri": "https://localhost:8080/"
        },
        "outputId": "85b18952-a615-41ff-f421-8f5301166f5c"
      },
      "source": [
        "import pandas as pd\n",
        "import numpy as np\n",
        "csv = 'https://raw.githubusercontent.com/pandas-dev/pandas/master/doc/data/titanic.csv'\n",
        "df = pd.read_csv(csv)\n",
        "def get_current_fares():\n",
        "  # add your code below to get the fares data into a numpy array, convert to today's prices and print stats\n",
        "  fare = df['Fare'].to_numpy(dtype = np.float16)\n",
        "  new_fare = fare * 120.7045\n",
        "  print(np.average(new_fare))\n",
        "  print(np.max(new_fare))\n",
        "  print(np.min(new_fare))\n",
        "\n",
        "\n",
        "# run the function and test against expected output\n",
        "get_current_fares()"
      ],
      "execution_count": 13,
      "outputs": [
        {
          "output_type": "stream",
          "name": "stdout",
          "text": [
            "3886.0\n",
            "61860.0\n",
            "0.0\n"
          ]
        }
      ]
    },
    {
      "cell_type": "markdown",
      "metadata": {
        "id": "Bv1G1MJpT1U9"
      },
      "source": [
        "---\n",
        "### Exercise 10 - create a new column in the dataframe from a numpy array\n",
        "\n",
        "**Challenging**\n",
        "\n",
        "Write a function which will calculate expected salaries for all in the income data set after an inflation rate of 3.5% (with results in a new numpy array).\n",
        "\n",
        "Just to show the result, calculate and print the Pearson Correlation Coefficient between the salaries series and the inflated salaries series.  We would expect this to be 1 (ie the inflated salary is always 3.5% higher than the current salary) and the exercise is just meant to show that - the statistic has no relevance.  \n",
        "\n",
        "Create a new column in the dataframe from the new numpy array (so that the dataframe now contains the original salaries and the inflated salaries.  \n",
        "(**Recap**:  *to add a new column, just use* `df['new column name']`)  \n",
        "\n",
        "To assign a numpy array to a pandas column use  \n",
        "`df['new column name'] = numpyarrayname.tolist()`\n",
        "\n",
        "Display the new dataframe and print the correlation coefficient.\n",
        "\n",
        "\n",
        "\n",
        "\n",
        "\n"
      ]
    },
    {
      "cell_type": "code",
      "metadata": {
        "id": "x90cXT8NWD40",
        "colab": {
          "base_uri": "https://localhost:8080/",
          "height": 666
        },
        "outputId": "388b913f-19e1-4bdf-c122-d41548fb3325"
      },
      "source": [
        "import pandas as pd\n",
        "import numpy as np\n",
        "url = 'https://github.com/futureCodersSE/working-with-data/blob/main/Data%20sets/Income-Data.xlsx?raw=true'\n",
        "df = pd.read_excel(url)\n",
        "def expected_sal():\n",
        "  old_income = df['Income']\n",
        "  new_income = old_income * 1.035\n",
        "  coef = np.corrcoef(old_income, new_income)\n",
        "  print(coef)\n",
        "\n",
        "  df['Income after Inflation'] = new_income.tolist()\n",
        "  display(df)\n",
        "  print(coef[0][1])\n",
        "expected_sal()\n",
        "\n"
      ],
      "execution_count": 22,
      "outputs": [
        {
          "output_type": "stream",
          "name": "stdout",
          "text": [
            "[[1. 1.]\n",
            " [1. 1.]]\n"
          ]
        },
        {
          "output_type": "display_data",
          "data": {
            "text/plain": [
              "   State  County  Population   Age  Income  Income after Inflation\n",
              "0     TX     1.0        72.0  34.0    65.0                  67.275\n",
              "1     TX     2.0        33.0  42.0    45.0                  46.575\n",
              "2     TX     5.0        25.0  23.0    46.0                  47.610\n",
              "3     TX     6.0        54.0  36.0    65.0                  67.275\n",
              "4     TX     7.0        11.0  42.0    53.0                  54.855\n",
              "5     TX     8.0        28.0  25.0    62.0                  64.170\n",
              "6     TX     9.0        82.0  35.0    66.0                  68.310\n",
              "7     TX    10.0         5.0  40.0    75.0                  77.625\n",
              "8     MD    11.0        61.0  27.0    22.0                  22.770\n",
              "9     MD     2.0         5.0  23.0    69.0                  71.415\n",
              "10    MD     4.0        98.0  25.0    73.0                  75.555\n",
              "11    MD     3.0        64.0  29.0    75.0                  77.625\n",
              "12    MD     2.0        36.0  24.0    65.0                  67.275\n",
              "13    MD     1.0        24.0  25.0    66.0                  68.310\n",
              "14    MD     5.0        34.0  31.0    78.0                  80.730\n",
              "15    MD     6.0        89.0  22.0    81.0                  83.835\n",
              "16    MD     8.0        21.0  25.0    73.0                  75.555\n",
              "17    MD     7.0        21.0  30.0    62.0                  64.170"
            ],
            "text/html": [
              "\n",
              "  <div id=\"df-21ac59c2-0671-494c-a1db-b111a2da9ac5\">\n",
              "    <div class=\"colab-df-container\">\n",
              "      <div>\n",
              "<style scoped>\n",
              "    .dataframe tbody tr th:only-of-type {\n",
              "        vertical-align: middle;\n",
              "    }\n",
              "\n",
              "    .dataframe tbody tr th {\n",
              "        vertical-align: top;\n",
              "    }\n",
              "\n",
              "    .dataframe thead th {\n",
              "        text-align: right;\n",
              "    }\n",
              "</style>\n",
              "<table border=\"1\" class=\"dataframe\">\n",
              "  <thead>\n",
              "    <tr style=\"text-align: right;\">\n",
              "      <th></th>\n",
              "      <th>State</th>\n",
              "      <th>County</th>\n",
              "      <th>Population</th>\n",
              "      <th>Age</th>\n",
              "      <th>Income</th>\n",
              "      <th>Income after Inflation</th>\n",
              "    </tr>\n",
              "  </thead>\n",
              "  <tbody>\n",
              "    <tr>\n",
              "      <th>0</th>\n",
              "      <td>TX</td>\n",
              "      <td>1.0</td>\n",
              "      <td>72.0</td>\n",
              "      <td>34.0</td>\n",
              "      <td>65.0</td>\n",
              "      <td>67.275</td>\n",
              "    </tr>\n",
              "    <tr>\n",
              "      <th>1</th>\n",
              "      <td>TX</td>\n",
              "      <td>2.0</td>\n",
              "      <td>33.0</td>\n",
              "      <td>42.0</td>\n",
              "      <td>45.0</td>\n",
              "      <td>46.575</td>\n",
              "    </tr>\n",
              "    <tr>\n",
              "      <th>2</th>\n",
              "      <td>TX</td>\n",
              "      <td>5.0</td>\n",
              "      <td>25.0</td>\n",
              "      <td>23.0</td>\n",
              "      <td>46.0</td>\n",
              "      <td>47.610</td>\n",
              "    </tr>\n",
              "    <tr>\n",
              "      <th>3</th>\n",
              "      <td>TX</td>\n",
              "      <td>6.0</td>\n",
              "      <td>54.0</td>\n",
              "      <td>36.0</td>\n",
              "      <td>65.0</td>\n",
              "      <td>67.275</td>\n",
              "    </tr>\n",
              "    <tr>\n",
              "      <th>4</th>\n",
              "      <td>TX</td>\n",
              "      <td>7.0</td>\n",
              "      <td>11.0</td>\n",
              "      <td>42.0</td>\n",
              "      <td>53.0</td>\n",
              "      <td>54.855</td>\n",
              "    </tr>\n",
              "    <tr>\n",
              "      <th>5</th>\n",
              "      <td>TX</td>\n",
              "      <td>8.0</td>\n",
              "      <td>28.0</td>\n",
              "      <td>25.0</td>\n",
              "      <td>62.0</td>\n",
              "      <td>64.170</td>\n",
              "    </tr>\n",
              "    <tr>\n",
              "      <th>6</th>\n",
              "      <td>TX</td>\n",
              "      <td>9.0</td>\n",
              "      <td>82.0</td>\n",
              "      <td>35.0</td>\n",
              "      <td>66.0</td>\n",
              "      <td>68.310</td>\n",
              "    </tr>\n",
              "    <tr>\n",
              "      <th>7</th>\n",
              "      <td>TX</td>\n",
              "      <td>10.0</td>\n",
              "      <td>5.0</td>\n",
              "      <td>40.0</td>\n",
              "      <td>75.0</td>\n",
              "      <td>77.625</td>\n",
              "    </tr>\n",
              "    <tr>\n",
              "      <th>8</th>\n",
              "      <td>MD</td>\n",
              "      <td>11.0</td>\n",
              "      <td>61.0</td>\n",
              "      <td>27.0</td>\n",
              "      <td>22.0</td>\n",
              "      <td>22.770</td>\n",
              "    </tr>\n",
              "    <tr>\n",
              "      <th>9</th>\n",
              "      <td>MD</td>\n",
              "      <td>2.0</td>\n",
              "      <td>5.0</td>\n",
              "      <td>23.0</td>\n",
              "      <td>69.0</td>\n",
              "      <td>71.415</td>\n",
              "    </tr>\n",
              "    <tr>\n",
              "      <th>10</th>\n",
              "      <td>MD</td>\n",
              "      <td>4.0</td>\n",
              "      <td>98.0</td>\n",
              "      <td>25.0</td>\n",
              "      <td>73.0</td>\n",
              "      <td>75.555</td>\n",
              "    </tr>\n",
              "    <tr>\n",
              "      <th>11</th>\n",
              "      <td>MD</td>\n",
              "      <td>3.0</td>\n",
              "      <td>64.0</td>\n",
              "      <td>29.0</td>\n",
              "      <td>75.0</td>\n",
              "      <td>77.625</td>\n",
              "    </tr>\n",
              "    <tr>\n",
              "      <th>12</th>\n",
              "      <td>MD</td>\n",
              "      <td>2.0</td>\n",
              "      <td>36.0</td>\n",
              "      <td>24.0</td>\n",
              "      <td>65.0</td>\n",
              "      <td>67.275</td>\n",
              "    </tr>\n",
              "    <tr>\n",
              "      <th>13</th>\n",
              "      <td>MD</td>\n",
              "      <td>1.0</td>\n",
              "      <td>24.0</td>\n",
              "      <td>25.0</td>\n",
              "      <td>66.0</td>\n",
              "      <td>68.310</td>\n",
              "    </tr>\n",
              "    <tr>\n",
              "      <th>14</th>\n",
              "      <td>MD</td>\n",
              "      <td>5.0</td>\n",
              "      <td>34.0</td>\n",
              "      <td>31.0</td>\n",
              "      <td>78.0</td>\n",
              "      <td>80.730</td>\n",
              "    </tr>\n",
              "    <tr>\n",
              "      <th>15</th>\n",
              "      <td>MD</td>\n",
              "      <td>6.0</td>\n",
              "      <td>89.0</td>\n",
              "      <td>22.0</td>\n",
              "      <td>81.0</td>\n",
              "      <td>83.835</td>\n",
              "    </tr>\n",
              "    <tr>\n",
              "      <th>16</th>\n",
              "      <td>MD</td>\n",
              "      <td>8.0</td>\n",
              "      <td>21.0</td>\n",
              "      <td>25.0</td>\n",
              "      <td>73.0</td>\n",
              "      <td>75.555</td>\n",
              "    </tr>\n",
              "    <tr>\n",
              "      <th>17</th>\n",
              "      <td>MD</td>\n",
              "      <td>7.0</td>\n",
              "      <td>21.0</td>\n",
              "      <td>30.0</td>\n",
              "      <td>62.0</td>\n",
              "      <td>64.170</td>\n",
              "    </tr>\n",
              "  </tbody>\n",
              "</table>\n",
              "</div>\n",
              "      <button class=\"colab-df-convert\" onclick=\"convertToInteractive('df-21ac59c2-0671-494c-a1db-b111a2da9ac5')\"\n",
              "              title=\"Convert this dataframe to an interactive table.\"\n",
              "              style=\"display:none;\">\n",
              "        \n",
              "  <svg xmlns=\"http://www.w3.org/2000/svg\" height=\"24px\"viewBox=\"0 0 24 24\"\n",
              "       width=\"24px\">\n",
              "    <path d=\"M0 0h24v24H0V0z\" fill=\"none\"/>\n",
              "    <path d=\"M18.56 5.44l.94 2.06.94-2.06 2.06-.94-2.06-.94-.94-2.06-.94 2.06-2.06.94zm-11 1L8.5 8.5l.94-2.06 2.06-.94-2.06-.94L8.5 2.5l-.94 2.06-2.06.94zm10 10l.94 2.06.94-2.06 2.06-.94-2.06-.94-.94-2.06-.94 2.06-2.06.94z\"/><path d=\"M17.41 7.96l-1.37-1.37c-.4-.4-.92-.59-1.43-.59-.52 0-1.04.2-1.43.59L10.3 9.45l-7.72 7.72c-.78.78-.78 2.05 0 2.83L4 21.41c.39.39.9.59 1.41.59.51 0 1.02-.2 1.41-.59l7.78-7.78 2.81-2.81c.8-.78.8-2.07 0-2.86zM5.41 20L4 18.59l7.72-7.72 1.47 1.35L5.41 20z\"/>\n",
              "  </svg>\n",
              "      </button>\n",
              "      \n",
              "  <style>\n",
              "    .colab-df-container {\n",
              "      display:flex;\n",
              "      flex-wrap:wrap;\n",
              "      gap: 12px;\n",
              "    }\n",
              "\n",
              "    .colab-df-convert {\n",
              "      background-color: #E8F0FE;\n",
              "      border: none;\n",
              "      border-radius: 50%;\n",
              "      cursor: pointer;\n",
              "      display: none;\n",
              "      fill: #1967D2;\n",
              "      height: 32px;\n",
              "      padding: 0 0 0 0;\n",
              "      width: 32px;\n",
              "    }\n",
              "\n",
              "    .colab-df-convert:hover {\n",
              "      background-color: #E2EBFA;\n",
              "      box-shadow: 0px 1px 2px rgba(60, 64, 67, 0.3), 0px 1px 3px 1px rgba(60, 64, 67, 0.15);\n",
              "      fill: #174EA6;\n",
              "    }\n",
              "\n",
              "    [theme=dark] .colab-df-convert {\n",
              "      background-color: #3B4455;\n",
              "      fill: #D2E3FC;\n",
              "    }\n",
              "\n",
              "    [theme=dark] .colab-df-convert:hover {\n",
              "      background-color: #434B5C;\n",
              "      box-shadow: 0px 1px 3px 1px rgba(0, 0, 0, 0.15);\n",
              "      filter: drop-shadow(0px 1px 2px rgba(0, 0, 0, 0.3));\n",
              "      fill: #FFFFFF;\n",
              "    }\n",
              "  </style>\n",
              "\n",
              "      <script>\n",
              "        const buttonEl =\n",
              "          document.querySelector('#df-21ac59c2-0671-494c-a1db-b111a2da9ac5 button.colab-df-convert');\n",
              "        buttonEl.style.display =\n",
              "          google.colab.kernel.accessAllowed ? 'block' : 'none';\n",
              "\n",
              "        async function convertToInteractive(key) {\n",
              "          const element = document.querySelector('#df-21ac59c2-0671-494c-a1db-b111a2da9ac5');\n",
              "          const dataTable =\n",
              "            await google.colab.kernel.invokeFunction('convertToInteractive',\n",
              "                                                     [key], {});\n",
              "          if (!dataTable) return;\n",
              "\n",
              "          const docLinkHtml = 'Like what you see? Visit the ' +\n",
              "            '<a target=\"_blank\" href=https://colab.research.google.com/notebooks/data_table.ipynb>data table notebook</a>'\n",
              "            + ' to learn more about interactive tables.';\n",
              "          element.innerHTML = '';\n",
              "          dataTable['output_type'] = 'display_data';\n",
              "          await google.colab.output.renderOutput(dataTable, element);\n",
              "          const docLink = document.createElement('div');\n",
              "          docLink.innerHTML = docLinkHtml;\n",
              "          element.appendChild(docLink);\n",
              "        }\n",
              "      </script>\n",
              "    </div>\n",
              "  </div>\n",
              "  "
            ]
          },
          "metadata": {}
        },
        {
          "output_type": "stream",
          "name": "stdout",
          "text": [
            "1.0\n"
          ]
        }
      ]
    },
    {
      "cell_type": "markdown",
      "metadata": {
        "id": "yQyytEbnZ1lw"
      },
      "source": [
        "# Reflection\n",
        "----\n",
        "\n",
        "## What skills have you demonstrated in completing this notebook?"
      ]
    },
    {
      "cell_type": "markdown",
      "metadata": {
        "id": "MM00hR5aZk1-"
      },
      "source": [
        "Your answer: "
      ]
    },
    {
      "cell_type": "markdown",
      "metadata": {
        "id": "Zgexd27sZ1ly"
      },
      "source": [
        "## What caused you the most difficulty?"
      ]
    },
    {
      "cell_type": "markdown",
      "metadata": {
        "id": "-Y_nrVBwaGXr"
      },
      "source": [
        "Your answer: "
      ]
    }
  ]
}