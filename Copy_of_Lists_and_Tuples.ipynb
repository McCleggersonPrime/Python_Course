{
  "nbformat": 4,
  "nbformat_minor": 0,
  "metadata": {
    "colab": {
      "name": "Copy of Lists and Tuples.ipynb",
      "provenance": [],
      "collapsed_sections": [],
      "include_colab_link": true
    },
    "kernelspec": {
      "name": "python3",
      "display_name": "Python 3"
    },
    "language_info": {
      "name": "python"
    }
  },
  "cells": [
    {
      "cell_type": "markdown",
      "metadata": {
        "id": "view-in-github",
        "colab_type": "text"
      },
      "source": [
        "<a href=\"https://colab.research.google.com/github/McCleggersonPrime/Python_Course/blob/main/Copy_of_Lists_and_Tuples.ipynb\" target=\"_parent\"><img src=\"https://colab.research.google.com/assets/colab-badge.svg\" alt=\"Open In Colab\"/></a>"
      ]
    },
    {
      "cell_type": "markdown",
      "metadata": {
        "id": "Z-M-RCWATK71"
      },
      "source": [
        "# Lists and tuples\n",
        "\n",
        "Often we need to store a number of single items of data together so that they can be processed together. This might be because all the data refers to one person (e.g. name, age, gender, etc) OR it might be because we have a set of data (e.g. all the items that should be displayed in a drop down list, such as all the years from this year back to 100 years ago so that someone can select their year of birth)\n",
        "\n",
        "Python has a range of data structures available including:\n",
        "*   lists  \n",
        "*   tuples  \n",
        "*   dictionaries  \n",
        "*   sets\n",
        "\n",
        "This worksheet looks at lists and tuples.\n",
        "\n",
        "## List\n",
        "A list is a set of related, individual data objects, that are indexed and can be processed as a whole, as subsets or as individual items.  Lists are stored, essentially, as contiguous items in memory so that access can be as quick as possible.  However, they are mutable (they can be changed after they are created and stored) and so those mechanisms need to include extra functionality to deal with changing list sizes.\n",
        "\n",
        "## Tuple\n",
        "Essentially the same as a list but it is immutable.  Once it has been created it can't be changed.  It is stored in memory as contiguous items, with the size required being fixed right from the start.  This makes it faster to access.\n",
        "\n",
        "The code below will create two lists and a tuple.\n",
        "*   the first list contains 1000 random numbers between 1 and 100\n",
        "*   the second list is of random length (up to 5000) and each item is one of the 9 characteristics that are protected under the Equality Act in the UK.\n",
        "*   the tuple contains the 9 protected characteristics\n",
        "\n",
        "Before you start the exercises, run the code below.  It will generate the lists and tuple so that you can use them in the exercises.  If you need to recreate the lists again (because you have changed them and need to work on the originals, just run this cell again).\n",
        "\n",
        "***Note:***  *a list variable contains a reference to the start of the list in memory, rather than storing the list itself.  This means that if you assign the list to another variable (to make a copy), it will only copy across the reference.  If you change the copy, you change the original list.*\n",
        "\n",
        "*If you need to make a copy of the list you will need to use a loop to create a new list and copy all items across.*"
      ]
    },
    {
      "cell_type": "code",
      "metadata": {
        "id": "BDRckXeQXFMT"
      },
      "source": [
        "from random import randint, choice\n",
        "\n",
        "def get_num_list():\n",
        "  num_list = [randint(1,100) for n in range(1000)]\n",
        "  return num_list\n",
        "\n",
        "def get_protected_characteristics():\n",
        "  characteristics_tuple = ('age','disability','gender reassignment','marriage and civil partnership','pregnancy and maternity','race','religion or belief','sex','sexual orientation')\n",
        "  return characteristics_tuple\n",
        "\n",
        "def get_protected_characteristic_list(protected_characteristics):\n",
        "  char_list = [choice(protected_characteristics) for ch in range(randint(1,5000))]\n",
        "  return char_list\n",
        "\n",
        "nums = get_num_list()\n",
        "protected_characteristics = get_protected_characteristics()\n",
        "characteristics = get_protected_characteristic_list(protected_characteristics)"
      ],
      "execution_count": 4,
      "outputs": []
    },
    {
      "cell_type": "markdown",
      "metadata": {
        "id": "xXT38-4ZV45n"
      },
      "source": [
        "## The exercises below will use the lists:  \n",
        "*   **nums** (a list of between 1 and 1000 random numbers, each number is between 0 and 1000)\n",
        "*   **characteristics** (a list of 5000 random protected_characteristics)\n",
        "\n",
        "and the tuple:\n",
        "*  **protected_characteristics** (a set of the 9 protected characteristics identified in the Equality Act)\n",
        "\n",
        "## You can run the cell above any number of times to generate new lists."
      ]
    },
    {
      "cell_type": "markdown",
      "metadata": {
        "id": "Ft0dXl7fUuaK"
      },
      "source": [
        "---\n",
        "### Exercise 1 - list head, tail and shape\n",
        "\n",
        "Write a function, **describe_list()** which will:\n",
        "*  print the length of the list `nums`\n",
        "*  print the first 10 items in `nums`  \n",
        "*  print the last 5 items in `nums`"
      ]
    },
    {
      "cell_type": "code",
      "metadata": {
        "id": "jUcZD7mmTJdA",
        "colab": {
          "base_uri": "https://localhost:8080/"
        },
        "outputId": "2f980da8-00ea-4010-c474-92be5eb245cf"
      },
      "source": [
        "def  describe_list():\n",
        "  print(len(nums))\n",
        "  print(nums[:10])\n",
        "  print(nums[-5:])\n",
        "describe_list()"
      ],
      "execution_count": 5,
      "outputs": [
        {
          "output_type": "stream",
          "name": "stdout",
          "text": [
            "1000\n",
            "[39, 33, 76, 4, 54, 59, 55, 15, 72, 92]\n",
            "[50, 43, 32, 69, 60]\n"
          ]
        }
      ]
    },
    {
      "cell_type": "markdown",
      "metadata": {
        "id": "yNWg08k6bXv0"
      },
      "source": [
        "---\n",
        "### Exercise 2 - show tuple items\n",
        "\n",
        "Write a function which will:\n",
        "*   use a loop to print the list of protected characteristics from the `protected_characteristics` tuple.\n"
      ]
    },
    {
      "cell_type": "code",
      "metadata": {
        "id": "P2HnCG9pb1BS",
        "colab": {
          "base_uri": "https://localhost:8080/"
        },
        "outputId": "e77f06be-38d9-4949-fc46-b6ab8d5da309"
      },
      "source": [
        "characteristics_tuple = ('age','disability','gender reassignment','marriage and civil partnership','pregnancy and maternity','race','religion or belief','sex','sexual orientation')\n",
        "\n",
        "def protected_characteristics():\n",
        "  i = 0\n",
        "  while i < len(characteristics_tuple):\n",
        "    for i in range(len(characteristics_tuple)):\n",
        "      print(i,characteristics_tuple[i])\n",
        "      i = i + 1\n",
        "protected_characteristics()\n"
      ],
      "execution_count": 6,
      "outputs": [
        {
          "output_type": "stream",
          "name": "stdout",
          "text": [
            "0 age\n",
            "1 disability\n",
            "2 gender reassignment\n",
            "3 marriage and civil partnership\n",
            "4 pregnancy and maternity\n",
            "5 race\n",
            "6 religion or belief\n",
            "7 sex\n",
            "8 sexual orientation\n"
          ]
        }
      ]
    },
    {
      "cell_type": "markdown",
      "metadata": {
        "id": "RTSuQZs4b1JU"
      },
      "source": [
        "---\n",
        "### Exercise 3 - list a random subset\n",
        "\n",
        "Write a function which will:\n",
        "*  calculate the position of the middle item in the `characteristics` list   \n",
        "(*Hint: use len() to help with this*)\n",
        "*  calculate the position of the item that is 5 places before the middle item\n",
        "*  calculate the position of the item that is 5 places after the middle item\n",
        "*  print the part of the list that includes the items from 5 places before to 5 places after.  \n",
        "\n",
        "Expected output:  \n",
        "Your list will include 11 items."
      ]
    },
    {
      "cell_type": "code",
      "metadata": {
        "id": "OwhFnH2kdC11",
        "colab": {
          "base_uri": "https://localhost:8080/"
        },
        "outputId": "eedb7b0b-ae6c-484c-ce97-dc158a0dfd3d"
      },
      "source": [
        "def random_subset():\n",
        "  middle = len(characteristics) // 2\n",
        "  print(middle)\n",
        "  middle_m5 = middle - 6\n",
        "  middle_p5 = middle + 5\n",
        "  print(characteristics[middle_m5:middle_p5])\n",
        "random_subset()"
      ],
      "execution_count": 7,
      "outputs": [
        {
          "output_type": "stream",
          "name": "stdout",
          "text": [
            "1041\n",
            "['pregnancy and maternity', 'sexual orientation', 'race', 'sex', 'pregnancy and maternity', 'race', 'sexual orientation', 'sex', 'religion or belief', 'marriage and civil partnership', 'religion or belief']\n"
          ]
        }
      ]
    },
    {
      "cell_type": "markdown",
      "metadata": {
        "id": "KS0x3oFNePI9"
      },
      "source": [
        "---\n",
        "### Exercise 4 - create a copy\n",
        "\n",
        "Write a function which will: use a for loop to create a copy of the `nums` list:\n",
        "\n",
        "*   create a new, empty, list called **new_nums**  (*Hint: an empty list is [ ]*)\n",
        "*   use a for loop which uses the following syntax:  `for num in nums:`\n",
        "*   each time round the loop append `num` to `new_nums`  ( *`new_nums.append(num)`*)\n",
        "*   print the first 10 items of `new_nums`\n",
        "*   print the first 10 items of `nums`\n",
        "*   print the length of both lists"
      ]
    },
    {
      "cell_type": "code",
      "metadata": {
        "id": "mpK1Ip3we-uC",
        "colab": {
          "base_uri": "https://localhost:8080/"
        },
        "outputId": "6b5229db-6293-4660-f418-5840d6f77cc3"
      },
      "source": [
        "def create_a_copy():\n",
        "  new_nums = []\n",
        "  for num in nums:\n",
        "    new_nums.append(num)\n",
        "  print(new_nums[:10])\n",
        "  print(nums[:10])\n",
        "  print(len(new_nums))\n",
        "  print(len(nums))\n",
        "\n",
        "create_a_copy()"
      ],
      "execution_count": 8,
      "outputs": [
        {
          "output_type": "stream",
          "name": "stdout",
          "text": [
            "[39, 33, 76, 4, 54, 59, 55, 15, 72, 92]\n",
            "[39, 33, 76, 4, 54, 59, 55, 15, 72, 92]\n",
            "1000\n",
            "1000\n"
          ]
        }
      ]
    },
    {
      "cell_type": "markdown",
      "metadata": {
        "id": "deUIFWjRe-3G"
      },
      "source": [
        "\n",
        "\n",
        "```\n",
        "# This is formatted as code\n",
        "```\n",
        "\n",
        "---\n",
        "### Exercise 5 - count the occurrence of age in characteristics\n",
        "\n",
        "Write a function which will use the list method:\n",
        "\n",
        "`num_items = list_name.count(item)`\n",
        "\n",
        "to count the number of occurrences of 'age' in the `characteristics` list.  Print the result."
      ]
    },
    {
      "cell_type": "code",
      "metadata": {
        "id": "b9TrHQ9hfoIU",
        "colab": {
          "base_uri": "https://localhost:8080/"
        },
        "outputId": "be6802e0-549f-407a-cb37-ec0c3ccf15c8"
      },
      "source": [
        "def get_age():\n",
        "  num_items = characteristics.count('age')\n",
        "  print(num_items)\n",
        "get_age()"
      ],
      "execution_count": 9,
      "outputs": [
        {
          "output_type": "stream",
          "name": "stdout",
          "text": [
            "231\n"
          ]
        }
      ]
    },
    {
      "cell_type": "markdown",
      "metadata": {
        "id": "zm2VI5RmfoSy"
      },
      "source": [
        "---\n",
        "### Exercise 6 - sort the nums list\n",
        "\n",
        "Write a function which will:\n",
        "*   call the function `get_num_list()` and store the result in a new list called **sort_nums**\n",
        "*   print the first, and last, 20 items in the `sort_nums` list\n",
        "*   use the `list_name.sort()` method to sort the `sort_nums` list into ascending order\n",
        "*   print the first, and last, 20 items again  \n",
        "*   use the `list_name.sort()` method again to sort the `sort_nums` list into descending order\n",
        "*   print the first, and last, 20 items again"
      ]
    },
    {
      "cell_type": "code",
      "metadata": {
        "id": "Fksgpj9JgWDs",
        "colab": {
          "base_uri": "https://localhost:8080/"
        },
        "outputId": "50f63869-0475-4518-ed3a-f2d098d5b288"
      },
      "source": [
        "def get_list():\n",
        "  sort_nums = get_num_list()\n",
        "  print(sort_nums[:20],sort_nums[-20:])\n",
        "  sort_nums.sort()\n",
        "  print(sort_nums[:20],sort_nums[-20:])\n",
        "  sort_nums.sort(reverse = True)\n",
        "  print(sort_nums[:20],sort_nums[-20:])\n",
        "get_list()"
      ],
      "execution_count": 10,
      "outputs": [
        {
          "output_type": "stream",
          "name": "stdout",
          "text": [
            "[84, 86, 49, 5, 47, 52, 4, 11, 88, 59, 40, 54, 24, 20, 47, 52, 57, 62, 8, 50] [62, 41, 5, 17, 82, 27, 31, 69, 45, 52, 100, 96, 69, 46, 44, 53, 22, 59, 56, 49]\n",
            "[1, 1, 1, 1, 1, 1, 1, 1, 1, 2, 2, 2, 2, 2, 2, 2, 2, 2, 2, 2] [99, 99, 99, 99, 99, 99, 99, 99, 99, 100, 100, 100, 100, 100, 100, 100, 100, 100, 100, 100]\n",
            "[100, 100, 100, 100, 100, 100, 100, 100, 100, 100, 100, 99, 99, 99, 99, 99, 99, 99, 99, 99] [2, 2, 2, 2, 2, 2, 2, 2, 2, 2, 2, 1, 1, 1, 1, 1, 1, 1, 1, 1]\n"
          ]
        }
      ]
    },
    {
      "cell_type": "markdown",
      "metadata": {
        "id": "_OF-Xuj1UrW0"
      },
      "source": [
        "---\n",
        "### Exercise 7 - get statistics (max(), min(), sum() )\n",
        "\n",
        "Write a function which will:\n",
        "*   print the maximum and minimum numbers in the `nums` list  \n",
        "*   print the sum of the `nums` list\n",
        "*   calculate and print the average of the `nums` list (using `len()` to help)"
      ]
    },
    {
      "cell_type": "code",
      "metadata": {
        "id": "9YmYMenZVGod",
        "colab": {
          "base_uri": "https://localhost:8080/"
        },
        "outputId": "cac766e1-89c7-4ed1-ac9d-efbe93026853"
      },
      "source": [
        "def stats():\n",
        "  min_value = min(nums)\n",
        "  max_value = max(nums)\n",
        "  print(min_value)\n",
        "  print(max_value)\n",
        "\n",
        "  total = sum(nums)\n",
        "  print(total)\n",
        "\n",
        "  average = (len(nums)/total)\n",
        "  print(average)\n",
        "stats()"
      ],
      "execution_count": 11,
      "outputs": [
        {
          "output_type": "stream",
          "name": "stdout",
          "text": [
            "1\n",
            "100\n",
            "49962\n",
            "0.020015211560786197\n"
          ]
        }
      ]
    },
    {
      "cell_type": "markdown",
      "metadata": {
        "id": "Mn4tHQ_KVbHa"
      },
      "source": [
        "---\n",
        "### Exercise 8 - percentage difference\n",
        "\n",
        "Write a function which will:\n",
        "*   generate a new list called **ex8_nums** using `get_num_list()`\n",
        "*   calculate and print the percentage difference between the first number in each list (as a percentage of the number in the nums list) (Hint:  find the difference between the two numbers, divide the difference by the number in `nums` and multiply by 100)\n",
        "*   calculate and print the percentage difference between the last numbers in each list in the same way\n",
        "*   calculate and print the percentage difference between the middle numbers in each list in the same way.\n",
        "*   calculate and print the percentage difference between the sums of each list in the same way"
      ]
    },
    {
      "cell_type": "code",
      "metadata": {
        "id": "nJCQjZIeZL0e",
        "colab": {
          "base_uri": "https://localhost:8080/"
        },
        "outputId": "89cb2a5d-633e-4fe4-ea22-96889e60d2cf"
      },
      "source": [
        "def percentage_diff():\n",
        "  # generate a new list called ex8_nums using get_num_list()\n",
        "  ex8_nums = get_num_list()\n",
        "# find the difference between the two numbers\n",
        "  num_diff1 = abs(nums[0] - ex8_nums[0]) / nums[0] * 100\n",
        "  num_diff2 = abs(nums[999] - ex8_nums[999]) / nums[999] * 100\n",
        "\n",
        " # find middle number\n",
        "  # middle1 = len(ex8_nums) / 2\n",
        "  # print(middle1)\n",
        "  # middle2 = len(nums) / 2\n",
        "  # print(middle2)\n",
        "  num_diff3 = abs(nums[500] - ex8_nums[500]) / nums[500] * 100\n",
        "\n",
        "  # find sums\n",
        "  total1 = sum(ex8_nums)\n",
        "  total2 = sum(nums)\n",
        "  num_diff4 = abs(total2 - total1) / total2 * 100\n",
        "\n",
        "# print results\n",
        "  print(num_diff1)\n",
        "  print(num_diff2)\n",
        "  print(num_diff3)\n",
        "  print(num_diff4)\n",
        "\n",
        "percentage_diff()\n",
        "\n",
        "\n",
        "  "
      ],
      "execution_count": 12,
      "outputs": [
        {
          "output_type": "stream",
          "name": "stdout",
          "text": [
            "135.8974358974359\n",
            "61.66666666666667\n",
            "97.61904761904762\n",
            "2.0295424522637204\n"
          ]
        }
      ]
    },
    {
      "cell_type": "markdown",
      "metadata": {
        "id": "HNs3lZmYawFO"
      },
      "source": [
        "---\n",
        "### Exercise 9 - characteristic counts\n",
        "\n",
        "Write a function which will:\n",
        "*  iterate through the `protected_characteristics` tuple and for each **characteristic**:\n",
        "*   *   count the number of occurrences of that `characteristic` in the `characteristics` list\n",
        "*   *   print the `protected_characteristic` and the **count**  \n",
        "\n",
        "Example expected output:\n",
        "\n",
        "age 100  \n",
        "disability 120  \n",
        "gender reassignment 120  \n",
        "marriage and civil partnership 111  \n",
        "pregnancy and maternity 103  \n",
        "race 106  \n",
        "religion or belief 95  \n",
        "sex 110  \n",
        "sexual orientation 113  \n",
        "\n",
        "Extra learning:  you can read [here](https://thispointer.com/python-how-to-pad-strings-with-zero-space-or-some-other-character/) how to justify the printed characteristic so that the output is organised into two columns as shown below:  \n",
        "![tabulated output](https://drive.google.com/uc?id=1CCXfX6K5ZeDefnq7vUsqxCDmqvcfY8Mz)\n",
        "\n",
        "\n",
        "\n"
      ]
    },
    {
      "cell_type": "code",
      "metadata": {
        "id": "GURT11albqUs",
        "colab": {
          "base_uri": "https://localhost:8080/"
        },
        "outputId": "06721bec-9320-4a4e-e1ee-1c4b9562928d"
      },
      "source": [
        "\n",
        "def protected():\n",
        "  i = 0\n",
        "  \n",
        "  while i < len(characteristics_tuple):\n",
        "    for i in range(len(characteristics_tuple)):\n",
        "      if i > 0:\n",
        "        print(characteristics_tuple[i],characteristics.count(characteristics_tuple[i]))\n",
        "        i = i + 1      \n",
        "\n",
        "\n",
        "\n",
        "protected()"
      ],
      "execution_count": 41,
      "outputs": [
        {
          "output_type": "stream",
          "name": "stdout",
          "text": [
            "disability 239\n",
            "gender reassignment 237\n",
            "marriage and civil partnership 236\n",
            "pregnancy and maternity 223\n",
            "race 207\n",
            "religion or belief 251\n",
            "sex 222\n",
            "sexual orientation 236\n"
          ]
        }
      ]
    },
    {
      "cell_type": "markdown",
      "metadata": {
        "id": "9Po7yQj-ds38"
      },
      "source": [
        "---\n",
        "### Exercise 10 - characteristics statistics\n",
        "\n",
        "Assuming that the `characteristics` list may have been taken from a study of cases that have been taken to court in relation to the Equality Act.  \n",
        "\n",
        "Write a function which will:\n",
        "\n",
        "*   find the most common characteristic resulting in court action, from this population\n",
        "*   print this in a message, e.g. The characteristic with the highest number of court cases is:  *characteristic*\n",
        "*   print the list of `protected_characteristics`, on one line if possible - see [here](https://www.geeksforgeeks.org/g-fact-25-print-single-multiple-variable-python/)\n",
        "*   ask the user to enter a characteristic that they would like to see statistics on and use a while loop to continue until the user has entered a valid characteristic\n",
        "*   print the characteristic, its frequency and the percentage that this frequency is of the whole population."
      ]
    },
    {
      "cell_type": "code",
      "metadata": {
        "id": "uk_I5z7UgbDs"
      },
      "source": [
        "def court_action():\n",
        "  "
      ],
      "execution_count": 13,
      "outputs": []
    }
  ]
}